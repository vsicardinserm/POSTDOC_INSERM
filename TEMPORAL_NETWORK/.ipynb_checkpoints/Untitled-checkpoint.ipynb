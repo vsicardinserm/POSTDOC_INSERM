{
 "cells": [
  {
   "cell_type": "code",
   "execution_count": 19,
   "id": "4ae6c827",
   "metadata": {},
   "outputs": [],
   "source": [
    "import pandas as pd\n",
    "import networkx as nx\n",
    "\n",
    "# read csv files\n",
    "movements_df = pd.read_csv(\"/home/vsicard/Documents/POSTDOC-INSERM/DATA/cattle_data//movements.csv\")\n",
    "attributes_df = pd.read_csv(\"/home/vsicard/Documents/POSTDOC-INSERM/DATA/cattle_data/attributes.csv\", low_memory=False)"
   ]
  },
  {
   "cell_type": "code",
   "execution_count": 40,
   "id": "43999c53",
   "metadata": {},
   "outputs": [],
   "source": [
    "# Create empty graph\n",
    "G = nx.MultiGraph()\n",
    "\n",
    "# create nodes\n",
    "for _, row in attributes_df.iterrows():\n",
    "    node = row['node']\n",
    "    attributes = {\n",
    "        'ID': row['ID'],\n",
    "        'species': row['species'],\n",
    "        'longitude': row['longitude'],\n",
    "        'latitude': row['latitude'],\n",
    "        'istat': row['istat'],\n",
    "        'ptype': row['ptype'],\n",
    "        'province': row['province'],\n",
    "        'region': row['region'],\n",
    "        'region_name': row['region_name'],\n",
    "        'state': 'S'\n",
    "    }\n",
    "    G.add_node(node, **attributes)"
   ]
  },
  {
   "cell_type": "code",
   "execution_count": 21,
   "id": "63fd2c33",
   "metadata": {},
   "outputs": [
    {
     "name": "stdout",
     "output_type": "stream",
     "text": [
      "number of nodes: 259892\n",
      "number of edges: 3693593\n"
     ]
    }
   ],
   "source": [
    "#add edges with attributes\n",
    "for _, row in movements_df.iterrows():\n",
    "    source = row['i']\n",
    "    target = row['j']\n",
    "    weight = row['w']\n",
    "    time = row['t']\n",
    "    G.add_edge(source, target, t=time, weight=weight)\n",
    "    \n",
    "print('number of nodes:', G.number_of_nodes())\n",
    "print('number of edges:', G.number_of_edges())"
   ]
  },
  {
   "cell_type": "code",
   "execution_count": 58,
   "id": "933deff1",
   "metadata": {},
   "outputs": [
    {
     "name": "stdout",
     "output_type": "stream",
     "text": [
      "[]\n"
     ]
    }
   ],
   "source": [
    "import random\n",
    "\n",
    "# only one t graph\n",
    "\n",
    "# Extraction du sous-graphe à t = 0\n",
    "G_t0 = nx.edge_subgraph(G, [(u, v) for u, v, attr in G.edges(data=True) if attr['t'] == 0])\n",
    "\n",
    "print(G.edges())\n",
    "\n",
    "for edge in G.edges():\n",
    "    print(edge\n",
    "    "
   ]
  },
  {
   "cell_type": "code",
   "execution_count": null,
   "id": "234eef1a",
   "metadata": {},
   "outputs": [],
   "source": [
    "# SIR\n",
    "for t in range(max_time):\n"
   ]
  },
  {
   "cell_type": "code",
   "execution_count": null,
   "id": "e4e1d9b8",
   "metadata": {},
   "outputs": [],
   "source": []
  }
 ],
 "metadata": {
  "kernelspec": {
   "display_name": "Python 3 (ipykernel)",
   "language": "python",
   "name": "python3"
  },
  "language_info": {
   "codemirror_mode": {
    "name": "ipython",
    "version": 3
   },
   "file_extension": ".py",
   "mimetype": "text/x-python",
   "name": "python",
   "nbconvert_exporter": "python",
   "pygments_lexer": "ipython3",
   "version": "3.9.13"
  }
 },
 "nbformat": 4,
 "nbformat_minor": 5
}
